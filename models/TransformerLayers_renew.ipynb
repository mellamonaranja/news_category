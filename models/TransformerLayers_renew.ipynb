{
 "cells": [
  {
   "cell_type": "code",
   "execution_count": 2,
   "metadata": {},
   "outputs": [],
   "source": [
    "import torch\n",
    "from torch import nn, Tensor\n",
    "import torch.nn.functional as F\n",
    "from torch.nn import TransformerEncoder, TransformerEncoderLayer, MultiheadAttention\n",
    "from models.UtilLayers_renew import FFNN, MultiHeadAttention\n",
    "\n",
    "from models.UtilLayers_renew import MultiHeadAttention, FFNN"
   ]
  },
  {
   "cell_type": "code",
   "execution_count": null,
   "metadata": {},
   "outputs": [],
   "source": [
    "class EncoderLayer(nn.Module):\n",
    "    def __init__(self, d_model, num_heads, rate=0.1):\n",
    "        super(EncoderLayer, self).__init__()\n",
    "        self.d_model = d_model\n",
    "        self.num_heads = num_heads\n",
    "        self.rate = rate\n",
    "        \n",
    "        self.mha_norm=nn.LayerNorm(eps=1e-6)\n",
    "        self.mha=MultiheadAttention(d_model, num_heads)\n",
    "        self.mha_dropout=nn.Dropout(rate)\n",
    "        \n",
    "        self.ffnn_norm=nn.LayerNorm(eps=1e-6)\n",
    "        "
   ]
  }
 ],
 "metadata": {
  "kernelspec": {
   "display_name": "Python 3.8.15 64-bit ('jupyter')",
   "language": "python",
   "name": "python3"
  },
  "language_info": {
   "codemirror_mode": {
    "name": "ipython",
    "version": 3
   },
   "file_extension": ".py",
   "mimetype": "text/x-python",
   "name": "python",
   "nbconvert_exporter": "python",
   "pygments_lexer": "ipython3",
   "version": "3.8.15"
  },
  "orig_nbformat": 4,
  "vscode": {
   "interpreter": {
    "hash": "4086fbbda600ef5a3186756b0a57662a89014dc025df738c34c7b09932df9c3c"
   }
  }
 },
 "nbformat": 4,
 "nbformat_minor": 2
}
