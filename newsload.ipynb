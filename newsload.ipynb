{
 "cells": [
  {
   "cell_type": "code",
   "execution_count": 234,
   "metadata": {},
   "outputs": [],
   "source": [
    "%config Completer.use_jedi = False\n",
    "import pandas as pd\n",
    "import re\n",
    "import collections\n",
    "from matplotlib import pyplot as plt\n",
    "import seaborn as sns\n",
    "import pymysql\n",
    "import random\n",
    "import json\n",
    "import os\n",
    "from hydra.experimental import compose, initialize\n",
    "# initialize(config_path=\"./\", strict=False)"
   ]
  },
  {
   "cell_type": "markdown",
   "metadata": {},
   "source": [
    "**함수**"
   ]
  },
  {
   "cell_type": "code",
   "execution_count": 235,
   "metadata": {},
   "outputs": [],
   "source": [
    "ptn_list = [\n",
    "    re.compile(r'[-_0-9a-z]+@[-_0-9a-z]+(?:\\.[0-9a-z]+)+', flags=re.IGNORECASE),\n",
    "    re.compile(r'(?:https?:\\/\\/)?[-_0-9a-z]+(?:\\.[-_0-9a-z]+)+', flags=re.IGNORECASE),\n",
    "    re.compile(r'\\.([^\\.]*(?:기자|특파원|교수|작가|대표|논설|고문|주필|부문장|팀장|장관|원장|연구원|이사장|위원|실장|차장|부장|에세이|화백|사설|소장|단장|과장|기획자|큐레이터|저작권|평론가|©|©|ⓒ|\\@|\\/|=|▶|무단|전재|재배포|금지|\\[|\\]|\\(\\))[^\\.]*)$'),\n",
    "    re.compile('[a-zA-Z가-힣]+ ?뉴스|뉴스+[a-zA-Z가-힣0-9]+ ?|[a-zA-Z가-힣]+newskr|[a-zA-Z가-힣]+ ?Copyrights'),\n",
    "    re.compile('\\s+Copyrights|\\s+배포 ?금지'),\n",
    "    re.compile('[a-zA-Z가-힣]+com|[a-zA-Z가-힣]+.kr'),\n",
    "    re.compile('[가-힣]+ ?기자|[가-힣]+ ?신문|[가-힣]+투데이|[가-힣]+미디어|[가-힣]+ ?데일리|[가-힣]+ 콘텐츠 무단|[가-힣]+ ?전재|[가-힣]+배포 ?금지'),\n",
    "    re.compile('데일리+[가-힣]'),\n",
    "    re.compile(r'전재\\s+변형'),\n",
    "    re.compile('\\s+배포 ?금지'),\n",
    "    re.compile('[a-zA-Z가-힣]+.kr'),\n",
    "    re.compile('/^[a-z0-9_+.-]+@([a-z0-9-]+\\.)+[a-z0-9]{2,4}$/'),\n",
    "    re.compile('[\\r|\\n]'),\n",
    "    re.compile('\\[[^)]*\\]'),\n",
    "    re.compile('[^ ㄱ-ㅣ가-힣A-Za-z0-9]'),\n",
    "    re.compile('뉴스코리아|및|Copyright|저작권자|ZDNET A RED VENTURES COMPANY'),\n",
    "    re.compile('\\([^)]*\\)'),\n",
    "    re.compile('[-=+,#\\?:^$@*\\\"※~&%ㆍ!』\\\\‘|\\(\\)\\[\\]\\<\\>`\\'…》·▲\\n]'),\n",
    "    re.compile(r\"[\\s]{2,}\"),\n",
    "    re.compile(r'/+[a-zA-Z가-힣]'),\n",
    "]\n",
    "\n",
    "def processing(content):\n",
    "    \n",
    "    pattern_bracket = re.compile(r'^((?:\\[.+\\])|(?:【.+】)|(?:<.+>)|(?:◆.+◆)\\t)')\n",
    "    result = str(content)\n",
    "    for i, ptn in enumerate(ptn_list):\n",
    "        result = ptn.sub('.' if i == 2 else \"\", result)\n",
    "        result = pattern_bracket.sub('', result).strip()\n",
    "    return result"
   ]
  },
  {
   "cell_type": "code",
   "execution_count": 236,
   "metadata": {},
   "outputs": [],
   "source": [
    "def category_add(content):\n",
    "    labels=['인공지능', '로봇', '스마트팜', '에너지', '서버', '투자', '정부지원', '증강현실', '이동수단', '개발', '통신', '과학', '드론', '블록체인', '핀테크', '커머스', '여행', '미디어', '헬스케어', '의약', '식품', '교육', '직업', '경제', '광고', '제약', 'O2O', '뷰티', '부동산', 'etc']    \n",
    "    k_i_dict = {k: i for i, k in enumerate(labels)}\n",
    "    \n",
    "    category = []\n",
    "    for key, value in k_i_dict.items():\n",
    "        if str(key) in content:\n",
    "            category.append(value)\n",
    "\n",
    "    if not category:\n",
    "        category=[29]\n",
    "    \n",
    "    return category"
   ]
  },
  {
   "cell_type": "code",
   "execution_count": 237,
   "metadata": {},
   "outputs": [],
   "source": [
    "def categorytext_add(content):\n",
    "    labels=['인공지능', '로봇', '스마트팜', '에너지', '서버', '투자', '정부지원', '증강현실', '이동수단', '개발', '통신', '과학', '드론', '블록체인', '핀테크', '커머스', '여행', '미디어', '헬스케어', '의약', '식품', '교육', '직업', '경제', '광고', '제약', 'O2O', '뷰티', '부동산', 'etc']    \n",
    "    k_i_dict = {k: i for i, k in enumerate(labels)}\n",
    "    \n",
    "    category = \"\"\n",
    "    \n",
    "    for key, value in k_i_dict.items():\n",
    "        if str(key) in content:\n",
    "            if category:\n",
    "                category += \",\"            \n",
    "            category += str(value)\n",
    "            \n",
    "    if not category:\n",
    "        category=\"29\"\n",
    "    \n",
    "    return category"
   ]
  },
  {
   "cell_type": "code",
   "execution_count": 238,
   "metadata": {},
   "outputs": [],
   "source": [
    "def label_modify(category):\n",
    "    if len(category) > 3:\n",
    "        random.shuffle(category)\n",
    "        category = category[:3]\n",
    "\n",
    "    return category"
   ]
  },
  {
   "cell_type": "code",
   "execution_count": 239,
   "metadata": {},
   "outputs": [],
   "source": [
    "def dump_jsonl(data, output_path, append=False):\n",
    "    \"\"\"\n",
    "    Write list of objects to a JSON lines file.\n",
    "    \"\"\"\n",
    "    mode = 'a+' if append else 'w'\n",
    "    with open(output_path, mode, encoding='utf-8') as f:\n",
    "        for line in data:\n",
    "            json_record = json.dumps(line, ensure_ascii=False)\n",
    "            f.write(json_record + '\\n')\n",
    "    print('Wrote {} records to {}'.format(len(data), output_path))\n",
    "\n",
    "def load_jsonl(input_path) -> list:\n",
    "    \"\"\"\n",
    "    Read list of objects from a JSON lines file.\n",
    "    \"\"\"\n",
    "    data = []\n",
    "    with open(input_path, 'r', encoding='utf-8') as f:\n",
    "        for line in f:\n",
    "            data.append(json.loads(line.rstrip('\\n|\\r')))\n",
    "    print('Loaded {} records from {}'.format(len(data), input_path))\n",
    "    return data"
   ]
  },
  {
   "cell_type": "markdown",
   "metadata": {},
   "source": [
    "**Labeling**"
   ]
  },
  {
   "cell_type": "code",
   "execution_count": 242,
   "metadata": {},
   "outputs": [],
   "source": [
    "cfg = compose(\"config.yaml\")\n",
    "\n",
    "conn = pymysql.connect(\n",
    "    user=cfg.Connection.user,\n",
    "    passwd=cfg.Connection.passwd,\n",
    "    db=cfg.Connection.db,\n",
    "    host=cfg.Connection.host,\n",
    "    port=cfg.Connection.port,\n",
    "    charset=\"utf8\",\n",
    "    use_unicode=True,\n",
    "    )\n",
    "\n",
    "cursor = conn.cursor(pymysql.cursors.DictCursor)\n",
    "\n",
    "query=\"\"\"select id, content from portal_news_scraper.portal_news where portal='daum' and kind not in ('200206', '200207') limit 500000;\"\"\"            \n",
    "\n",
    "cursor.execute(\n",
    "    query\n",
    ")\n",
    "data = pd.DataFrame(cursor.fetchall())"
   ]
  },
  {
   "cell_type": "code",
   "execution_count": 243,
   "metadata": {},
   "outputs": [],
   "source": [
    "data['content'] = data.content.apply(processing) "
   ]
  },
  {
   "cell_type": "code",
   "execution_count": 244,
   "metadata": {},
   "outputs": [
    {
     "data": {
      "text/plain": [
       "'서울박정호 SKT 대표이사가 25일 서울 중구 을지로 SKT타워에서 열린 SK텔레콤 제37기 정기 주주총회에 참석하고 있다SK텔레콤이 주주가치 제고를 위해 한국거래소에 자사주 869만주 소각을 반영한 변경상장을 완료했다고 14일 밝혔다 발행주식 총수의약 2조6000억원규모다 이로써 전날 기준 SK텔레콤의 발행주식 총수는 기존 8075만주에서 7206만주로 줄어들었다앞서 SK텔레콤은 지난 4일 올해 인적분할에 앞서 기업가치주주가치 제고를 위해 기존 자사주를 사실상 전량 소각한다고 발표한 바 있다 이번 자사주 소각으로 발행주식 총수가 감소하면서 기존 주주들의 지분율이 모두 상승했다SK텔레콤은 분할 후 기업가치가 올라갈 것으로 전망하는 증권업계 전반의 시각을 감안하면 기업 펀더멘털 변동없이 주식 수만 줄어든 상황이라며 자사주 소각 전보다 주식가치 상승 여력이 더 커졌다고 분석했다SK텔레콤은 발행주식 총수가 줄었음에도 전날 시가총액이 약 22조5000억원을 기록해 주주총회에서 기업구조인적분할 개편을 공식화했던 지난 3월25일 시가총액약 20조5000억원보다 10가량 늘었다고 설명했다 주가도 연초 대비 30 이상 상승했다고 덧붙였다한편 SK텔레콤은 상반기 내 이사회 의결을 거쳐 오는 10월 주주총회 11월 인적분할 법인의 재상장을 통해 인적분할 절차를 끝낼 계획이다'"
      ]
     },
     "execution_count": 244,
     "metadata": {},
     "output_type": "execute_result"
    }
   ],
   "source": [
    "data['content'][0]"
   ]
  },
  {
   "cell_type": "code",
   "execution_count": 245,
   "metadata": {},
   "outputs": [
    {
     "name": "stdout",
     "output_type": "stream",
     "text": [
      "0         서울박정호 SKT 대표이사가 25일 서울 중구 을지로 SKT타워에서 열린 SK텔레콤...\n",
      "1         네오위즈공동대표 문지수 김승철의 신작 게임 블레스 언리쉬드 PC에 대한 글로벌 이용...\n",
      "2         삼성 디지털프라자 삼성대치본점 갤럭시 스튜디오에서 소비자들이 갤럭시 북 프로 시리즈...\n",
      "3         김창룡 방송통신위원회 상임위원이 온라인 동영상 서비스OTT 웨이브를 방문해 국내 O...\n",
      "4         NHN이 게임 부문 실적 개선으로 우상향 그래프를 그렸다 다만 게임 외 사업이 대부...\n",
      "                                ...                        \n",
      "499995    국내 코로나19 백신 1차 접종률이 40를 넘었습니다지난 2월 26일 국내에서 백신...\n",
      "499996    직계가족 모임도 4인까지만 허용유흥시설 6종 집합금지 해제하고 영업시간 제한광주 동...\n",
      "499997    통신선 복원 후 한미 외교장관 첫 통화대북 인도적 지원 미국 이해 확보한 듯3월 1...\n",
      "499998    농협중앙회가 6일 625전쟁 70주년 사업에 기여한 공로로 국가보훈처로 부터 감사패...\n",
      "499999    알래스카 케치캔에 정박중인 홀란드 아메리카 라인 크루즈 미국 알래스카에서 관광용 경...\n",
      "Name: content, Length: 500000, dtype: object\n"
     ]
    }
   ],
   "source": [
    "print(data.content)"
   ]
  },
  {
   "cell_type": "code",
   "execution_count": 246,
   "metadata": {},
   "outputs": [],
   "source": [
    "data = data.dropna()"
   ]
  },
  {
   "cell_type": "code",
   "execution_count": 247,
   "metadata": {},
   "outputs": [
    {
     "data": {
      "text/plain": [
       "id         500000\n",
       "content    500000\n",
       "dtype: int64"
      ]
     },
     "execution_count": 247,
     "metadata": {},
     "output_type": "execute_result"
    }
   ],
   "source": [
    "data.count()\n",
    "#there is no data less than 50000"
   ]
  },
  {
   "cell_type": "code",
   "execution_count": 248,
   "metadata": {},
   "outputs": [],
   "source": [
    "data['category'] = data.content.apply(category_add)"
   ]
  },
  {
   "cell_type": "code",
   "execution_count": 249,
   "metadata": {},
   "outputs": [
    {
     "data": {
      "text/plain": [
       "[29]                     301418\n",
       "[23]                      18705\n",
       "[21]                      14737\n",
       "[9]                       13586\n",
       "[10]                      13188\n",
       "                          ...  \n",
       "[3, 9, 11, 16, 27]            1\n",
       "[5, 16, 25, 27]               1\n",
       "[3, 5, 9, 12, 21, 23]         1\n",
       "[1, 9, 20, 27]                1\n",
       "[3, 5, 21, 24]                1\n",
       "Name: category, Length: 6198, dtype: int64"
      ]
     },
     "execution_count": 249,
     "metadata": {},
     "output_type": "execute_result"
    }
   ],
   "source": [
    "(data['category']).value_counts()"
   ]
  },
  {
   "cell_type": "code",
   "execution_count": 250,
   "metadata": {},
   "outputs": [
    {
     "data": {
      "text/html": [
       "<div>\n",
       "<style scoped>\n",
       "    .dataframe tbody tr th:only-of-type {\n",
       "        vertical-align: middle;\n",
       "    }\n",
       "\n",
       "    .dataframe tbody tr th {\n",
       "        vertical-align: top;\n",
       "    }\n",
       "\n",
       "    .dataframe thead th {\n",
       "        text-align: right;\n",
       "    }\n",
       "</style>\n",
       "<table border=\"1\" class=\"dataframe\">\n",
       "  <thead>\n",
       "    <tr style=\"text-align: right;\">\n",
       "      <th></th>\n",
       "      <th>id</th>\n",
       "      <th>content</th>\n",
       "      <th>category</th>\n",
       "    </tr>\n",
       "  </thead>\n",
       "  <tbody>\n",
       "    <tr>\n",
       "      <th>0</th>\n",
       "      <td>315136</td>\n",
       "      <td>서울박정호 SKT 대표이사가 25일 서울 중구 을지로 SKT타워에서 열린 SK텔레콤...</td>\n",
       "      <td>[19]</td>\n",
       "    </tr>\n",
       "    <tr>\n",
       "      <th>1</th>\n",
       "      <td>315207</td>\n",
       "      <td>네오위즈공동대표 문지수 김승철의 신작 게임 블레스 언리쉬드 PC에 대한 글로벌 이용...</td>\n",
       "      <td>[4, 9]</td>\n",
       "    </tr>\n",
       "    <tr>\n",
       "      <th>2</th>\n",
       "      <td>315210</td>\n",
       "      <td>삼성 디지털프라자 삼성대치본점 갤럭시 스튜디오에서 소비자들이 갤럭시 북 프로 시리즈...</td>\n",
       "      <td>[29]</td>\n",
       "    </tr>\n",
       "    <tr>\n",
       "      <th>3</th>\n",
       "      <td>315241</td>\n",
       "      <td>김창룡 방송통신위원회 상임위원이 온라인 동영상 서비스OTT 웨이브를 방문해 국내 O...</td>\n",
       "      <td>[10]</td>\n",
       "    </tr>\n",
       "    <tr>\n",
       "      <th>4</th>\n",
       "      <td>315410</td>\n",
       "      <td>NHN이 게임 부문 실적 개선으로 우상향 그래프를 그렸다 다만 게임 외 사업이 대부...</td>\n",
       "      <td>[29]</td>\n",
       "    </tr>\n",
       "  </tbody>\n",
       "</table>\n",
       "</div>"
      ],
      "text/plain": [
       "       id                                            content category\n",
       "0  315136  서울박정호 SKT 대표이사가 25일 서울 중구 을지로 SKT타워에서 열린 SK텔레콤...     [19]\n",
       "1  315207  네오위즈공동대표 문지수 김승철의 신작 게임 블레스 언리쉬드 PC에 대한 글로벌 이용...   [4, 9]\n",
       "2  315210  삼성 디지털프라자 삼성대치본점 갤럭시 스튜디오에서 소비자들이 갤럭시 북 프로 시리즈...     [29]\n",
       "3  315241  김창룡 방송통신위원회 상임위원이 온라인 동영상 서비스OTT 웨이브를 방문해 국내 O...     [10]\n",
       "4  315410  NHN이 게임 부문 실적 개선으로 우상향 그래프를 그렸다 다만 게임 외 사업이 대부...     [29]"
      ]
     },
     "execution_count": 250,
     "metadata": {},
     "output_type": "execute_result"
    }
   ],
   "source": [
    "data.head()"
   ]
  },
  {
   "cell_type": "markdown",
   "metadata": {},
   "source": [
    "**count check**"
   ]
  },
  {
   "cell_type": "code",
   "execution_count": 14,
   "metadata": {},
   "outputs": [
    {
     "name": "stdout",
     "output_type": "stream",
     "text": [
      "인공지능 : 9817\n",
      "로봇 : 3867\n",
      "스마트팜 : 469\n",
      "에너지 : 15742\n",
      "서버 : 3001\n",
      "투자 : 44129\n",
      "정부지원 : 406\n",
      "증강현실 : 1259\n",
      "이동수단 : 315\n",
      "개발 : 59245\n",
      "통신 : 44557\n",
      "과학 : 19849\n",
      "드론 : 2130\n",
      "블록체인 : 3098\n",
      "핀테크 : 1882\n",
      "커머스 : 4891\n",
      "여행 : 10169\n",
      "미디어 : 9806\n",
      "헬스케어 : 2979\n",
      "의약 : 7373\n",
      "식품 : 15140\n",
      "교육 : 35178\n",
      "직업 : 4911\n",
      "경제 : 83120\n",
      "광고 : 6793\n",
      "제약 : 8440\n",
      "O2O : 187\n",
      "뷰티 : 2261\n",
      "부동산 : 19396\n",
      "etc : 224233\n"
     ]
    }
   ],
   "source": [
    "# labels=['인공지능', '로봇', '스마트팜', '에너지', '서버', '투자', '정부지원', '증강현실', '이동수단', '개발', '통신', '과학', '드론', '블록체인', '핀테크', '커머스', '여행', '미디어', '헬스케어', '의약', '식품', '교육', '직업', '경제', '광고', '제약', 'O2O', '뷰티', '부동산', 'etc']\n",
    "# k_i_dict = {k: i for i, k in enumerate(labels)}\n",
    "\n",
    "# tolist = data.category.tolist()\n",
    "# tolist = sum(tolist, [])\n",
    "# for key, value in k_i_dict.items():\n",
    "#     a = tolist.count(value)\n",
    "#     print(key + \" : \" + str(a))"
   ]
  },
  {
   "cell_type": "markdown",
   "metadata": {},
   "source": [
    "**drop etc**"
   ]
  },
  {
   "cell_type": "code",
   "execution_count": 251,
   "metadata": {},
   "outputs": [],
   "source": [
    "data['categorytext'] = data.content.apply(categorytext_add)"
   ]
  },
  {
   "cell_type": "code",
   "execution_count": 252,
   "metadata": {},
   "outputs": [
    {
     "data": {
      "text/plain": [
       "0               19\n",
       "1              4,9\n",
       "2               29\n",
       "3               10\n",
       "4               29\n",
       "5     0,9,10,11,23\n",
       "6               16\n",
       "7               29\n",
       "8               29\n",
       "9         3,5,9,10\n",
       "10              11\n",
       "11              29\n",
       "12             4,9\n",
       "13             4,9\n",
       "14              29\n",
       "15              29\n",
       "16              29\n",
       "17              29\n",
       "18          4,9,10\n",
       "19              29\n",
       "Name: categorytext, dtype: object"
      ]
     },
     "execution_count": 252,
     "metadata": {},
     "output_type": "execute_result"
    }
   ],
   "source": [
    "data['categorytext'].head(20)"
   ]
  },
  {
   "cell_type": "code",
   "execution_count": 253,
   "metadata": {},
   "outputs": [],
   "source": [
    "index = data['categorytext'].isin(['29']) & (data['id'] <= 1800000) \n",
    "data2 = data[index == False]"
   ]
  },
  {
   "cell_type": "code",
   "execution_count": 254,
   "metadata": {},
   "outputs": [
    {
     "data": {
      "text/plain": [
       "0              19\n",
       "1             4,9\n",
       "3              10\n",
       "5    0,9,10,11,23\n",
       "6              16\n",
       "Name: categorytext, dtype: object"
      ]
     },
     "execution_count": 254,
     "metadata": {},
     "output_type": "execute_result"
    }
   ],
   "source": [
    "data2['categorytext'].head()"
   ]
  },
  {
   "cell_type": "code",
   "execution_count": 255,
   "metadata": {},
   "outputs": [
    {
     "data": {
      "text/html": [
       "<div>\n",
       "<style scoped>\n",
       "    .dataframe tbody tr th:only-of-type {\n",
       "        vertical-align: middle;\n",
       "    }\n",
       "\n",
       "    .dataframe tbody tr th {\n",
       "        vertical-align: top;\n",
       "    }\n",
       "\n",
       "    .dataframe thead th {\n",
       "        text-align: right;\n",
       "    }\n",
       "</style>\n",
       "<table border=\"1\" class=\"dataframe\">\n",
       "  <thead>\n",
       "    <tr style=\"text-align: right;\">\n",
       "      <th></th>\n",
       "      <th>id</th>\n",
       "      <th>content</th>\n",
       "      <th>category</th>\n",
       "      <th>categorytext</th>\n",
       "    </tr>\n",
       "  </thead>\n",
       "  <tbody>\n",
       "    <tr>\n",
       "      <th>0</th>\n",
       "      <td>315136</td>\n",
       "      <td>서울박정호 SKT 대표이사가 25일 서울 중구 을지로 SKT타워에서 열린 SK텔레콤...</td>\n",
       "      <td>[19]</td>\n",
       "      <td>19</td>\n",
       "    </tr>\n",
       "    <tr>\n",
       "      <th>1</th>\n",
       "      <td>315207</td>\n",
       "      <td>네오위즈공동대표 문지수 김승철의 신작 게임 블레스 언리쉬드 PC에 대한 글로벌 이용...</td>\n",
       "      <td>[4, 9]</td>\n",
       "      <td>4,9</td>\n",
       "    </tr>\n",
       "    <tr>\n",
       "      <th>3</th>\n",
       "      <td>315241</td>\n",
       "      <td>김창룡 방송통신위원회 상임위원이 온라인 동영상 서비스OTT 웨이브를 방문해 국내 O...</td>\n",
       "      <td>[10]</td>\n",
       "      <td>10</td>\n",
       "    </tr>\n",
       "    <tr>\n",
       "      <th>5</th>\n",
       "      <td>315442</td>\n",
       "      <td>문재인 대통령이 14일 오전 청와대에서 임혜숙 과학기술정보통신부 장관에게 임명장을 ...</td>\n",
       "      <td>[0, 9, 10, 11, 23]</td>\n",
       "      <td>0,9,10,11,23</td>\n",
       "    </tr>\n",
       "    <tr>\n",
       "      <th>6</th>\n",
       "      <td>315534</td>\n",
       "      <td>미국 뉴욕 전경최소 모집정원 1명짜리 파격 해외 패키지여행 상품이 등장했다최소 15...</td>\n",
       "      <td>[16]</td>\n",
       "      <td>16</td>\n",
       "    </tr>\n",
       "  </tbody>\n",
       "</table>\n",
       "</div>"
      ],
      "text/plain": [
       "       id                                            content  \\\n",
       "0  315136  서울박정호 SKT 대표이사가 25일 서울 중구 을지로 SKT타워에서 열린 SK텔레콤...   \n",
       "1  315207  네오위즈공동대표 문지수 김승철의 신작 게임 블레스 언리쉬드 PC에 대한 글로벌 이용...   \n",
       "3  315241  김창룡 방송통신위원회 상임위원이 온라인 동영상 서비스OTT 웨이브를 방문해 국내 O...   \n",
       "5  315442  문재인 대통령이 14일 오전 청와대에서 임혜숙 과학기술정보통신부 장관에게 임명장을 ...   \n",
       "6  315534  미국 뉴욕 전경최소 모집정원 1명짜리 파격 해외 패키지여행 상품이 등장했다최소 15...   \n",
       "\n",
       "             category  categorytext  \n",
       "0                [19]            19  \n",
       "1              [4, 9]           4,9  \n",
       "3                [10]            10  \n",
       "5  [0, 9, 10, 11, 23]  0,9,10,11,23  \n",
       "6                [16]            16  "
      ]
     },
     "execution_count": 255,
     "metadata": {},
     "output_type": "execute_result"
    }
   ],
   "source": [
    "data2.head()"
   ]
  },
  {
   "cell_type": "code",
   "execution_count": 256,
   "metadata": {},
   "outputs": [
    {
     "data": {
      "text/plain": [
       "id              198582\n",
       "content         198582\n",
       "category        198582\n",
       "categorytext    198582\n",
       "dtype: int64"
      ]
     },
     "execution_count": 256,
     "metadata": {},
     "output_type": "execute_result"
    }
   ],
   "source": [
    "data2.count()"
   ]
  },
  {
   "cell_type": "code",
   "execution_count": 257,
   "metadata": {},
   "outputs": [
    {
     "data": {
      "text/plain": [
       "0                       [19]\n",
       "1                     [4, 9]\n",
       "3                       [10]\n",
       "5         [0, 9, 10, 11, 23]\n",
       "6                       [16]\n",
       "                 ...        \n",
       "499992                  [21]\n",
       "499996              [16, 23]\n",
       "499997                  [10]\n",
       "499998                  [20]\n",
       "499999              [10, 16]\n",
       "Name: category, Length: 198582, dtype: object"
      ]
     },
     "execution_count": 257,
     "metadata": {},
     "output_type": "execute_result"
    }
   ],
   "source": [
    "data2.category"
   ]
  },
  {
   "cell_type": "code",
   "execution_count": 258,
   "metadata": {},
   "outputs": [
    {
     "name": "stdout",
     "output_type": "stream",
     "text": [
      "인공지능 : 8524\n",
      "로봇 : 3553\n",
      "스마트팜 : 399\n",
      "에너지 : 14282\n",
      "서버 : 2697\n",
      "투자 : 39903\n",
      "정부지원 : 345\n",
      "증강현실 : 1213\n",
      "이동수단 : 298\n",
      "개발 : 54296\n",
      "통신 : 32716\n",
      "과학 : 18810\n",
      "드론 : 2211\n",
      "블록체인 : 2608\n",
      "핀테크 : 1609\n",
      "커머스 : 3973\n",
      "여행 : 10862\n",
      "미디어 : 6309\n",
      "헬스케어 : 2633\n",
      "의약 : 7280\n",
      "식품 : 13868\n",
      "교육 : 32626\n",
      "직업 : 4720\n",
      "경제 : 51017\n",
      "광고 : 6375\n",
      "제약 : 8180\n",
      "O2O : 192\n",
      "뷰티 : 2322\n",
      "부동산 : 18173\n",
      "etc : 65\n"
     ]
    }
   ],
   "source": [
    "labels=['인공지능', '로봇', '스마트팜', '에너지', '서버', '투자', '정부지원', '증강현실', '이동수단', '개발', '통신', '과학', '드론', '블록체인', '핀테크', '커머스', '여행', '미디어', '헬스케어', '의약', '식품', '교육', '직업', '경제', '광고', '제약', 'O2O', '뷰티', '부동산', 'etc']\n",
    "k_i_dict = {k: i for i, k in enumerate(labels)}\n",
    "#{'인공지능': 0,  '로봇': 1,  '스마트팜': 2,...}\n",
    "\n",
    "tolist = data2.category.tolist()\n",
    "tolist = sum(tolist, [])\n",
    "#[16, 23, 23, 0, 9, ...]\n",
    "\n",
    "for key, value in k_i_dict.items():\n",
    "    a = tolist.count(value)\n",
    "    #count the value\n",
    "    #46 15 3 61 ...\n",
    "    print(key + \" : \" + str(a))"
   ]
  },
  {
   "cell_type": "code",
   "execution_count": 259,
   "metadata": {},
   "outputs": [],
   "source": [
    "data2 = data2[['category', 'content']]"
   ]
  },
  {
   "cell_type": "code",
   "execution_count": 260,
   "metadata": {},
   "outputs": [
    {
     "data": {
      "text/html": [
       "<div>\n",
       "<style scoped>\n",
       "    .dataframe tbody tr th:only-of-type {\n",
       "        vertical-align: middle;\n",
       "    }\n",
       "\n",
       "    .dataframe tbody tr th {\n",
       "        vertical-align: top;\n",
       "    }\n",
       "\n",
       "    .dataframe thead th {\n",
       "        text-align: right;\n",
       "    }\n",
       "</style>\n",
       "<table border=\"1\" class=\"dataframe\">\n",
       "  <thead>\n",
       "    <tr style=\"text-align: right;\">\n",
       "      <th></th>\n",
       "      <th>category</th>\n",
       "      <th>content</th>\n",
       "    </tr>\n",
       "  </thead>\n",
       "  <tbody>\n",
       "    <tr>\n",
       "      <th>0</th>\n",
       "      <td>[19]</td>\n",
       "      <td>서울박정호 SKT 대표이사가 25일 서울 중구 을지로 SKT타워에서 열린 SK텔레콤...</td>\n",
       "    </tr>\n",
       "    <tr>\n",
       "      <th>1</th>\n",
       "      <td>[4, 9]</td>\n",
       "      <td>네오위즈공동대표 문지수 김승철의 신작 게임 블레스 언리쉬드 PC에 대한 글로벌 이용...</td>\n",
       "    </tr>\n",
       "    <tr>\n",
       "      <th>3</th>\n",
       "      <td>[10]</td>\n",
       "      <td>김창룡 방송통신위원회 상임위원이 온라인 동영상 서비스OTT 웨이브를 방문해 국내 O...</td>\n",
       "    </tr>\n",
       "    <tr>\n",
       "      <th>5</th>\n",
       "      <td>[0, 9, 10, 11, 23]</td>\n",
       "      <td>문재인 대통령이 14일 오전 청와대에서 임혜숙 과학기술정보통신부 장관에게 임명장을 ...</td>\n",
       "    </tr>\n",
       "    <tr>\n",
       "      <th>6</th>\n",
       "      <td>[16]</td>\n",
       "      <td>미국 뉴욕 전경최소 모집정원 1명짜리 파격 해외 패키지여행 상품이 등장했다최소 15...</td>\n",
       "    </tr>\n",
       "    <tr>\n",
       "      <th>...</th>\n",
       "      <td>...</td>\n",
       "      <td>...</td>\n",
       "    </tr>\n",
       "    <tr>\n",
       "      <th>499992</th>\n",
       "      <td>[21]</td>\n",
       "      <td>재판부는 또 A씨에게 약물중독 재활교육 프로그램 40시간 이수를 명령했다A씨는 지난...</td>\n",
       "    </tr>\n",
       "    <tr>\n",
       "      <th>499996</th>\n",
       "      <td>[16, 23]</td>\n",
       "      <td>직계가족 모임도 4인까지만 허용유흥시설 6종 집합금지 해제하고 영업시간 제한광주 동...</td>\n",
       "    </tr>\n",
       "    <tr>\n",
       "      <th>499997</th>\n",
       "      <td>[10]</td>\n",
       "      <td>통신선 복원 후 한미 외교장관 첫 통화대북 인도적 지원 미국 이해 확보한 듯3월 1...</td>\n",
       "    </tr>\n",
       "    <tr>\n",
       "      <th>499998</th>\n",
       "      <td>[20]</td>\n",
       "      <td>농협중앙회가 6일 625전쟁 70주년 사업에 기여한 공로로 국가보훈처로 부터 감사패...</td>\n",
       "    </tr>\n",
       "    <tr>\n",
       "      <th>499999</th>\n",
       "      <td>[10, 16]</td>\n",
       "      <td>알래스카 케치캔에 정박중인 홀란드 아메리카 라인 크루즈 미국 알래스카에서 관광용 경...</td>\n",
       "    </tr>\n",
       "  </tbody>\n",
       "</table>\n",
       "<p>198582 rows × 2 columns</p>\n",
       "</div>"
      ],
      "text/plain": [
       "                  category                                            content\n",
       "0                     [19]  서울박정호 SKT 대표이사가 25일 서울 중구 을지로 SKT타워에서 열린 SK텔레콤...\n",
       "1                   [4, 9]  네오위즈공동대표 문지수 김승철의 신작 게임 블레스 언리쉬드 PC에 대한 글로벌 이용...\n",
       "3                     [10]  김창룡 방송통신위원회 상임위원이 온라인 동영상 서비스OTT 웨이브를 방문해 국내 O...\n",
       "5       [0, 9, 10, 11, 23]  문재인 대통령이 14일 오전 청와대에서 임혜숙 과학기술정보통신부 장관에게 임명장을 ...\n",
       "6                     [16]  미국 뉴욕 전경최소 모집정원 1명짜리 파격 해외 패키지여행 상품이 등장했다최소 15...\n",
       "...                    ...                                                ...\n",
       "499992                [21]  재판부는 또 A씨에게 약물중독 재활교육 프로그램 40시간 이수를 명령했다A씨는 지난...\n",
       "499996            [16, 23]  직계가족 모임도 4인까지만 허용유흥시설 6종 집합금지 해제하고 영업시간 제한광주 동...\n",
       "499997                [10]  통신선 복원 후 한미 외교장관 첫 통화대북 인도적 지원 미국 이해 확보한 듯3월 1...\n",
       "499998                [20]  농협중앙회가 6일 625전쟁 70주년 사업에 기여한 공로로 국가보훈처로 부터 감사패...\n",
       "499999            [10, 16]  알래스카 케치캔에 정박중인 홀란드 아메리카 라인 크루즈 미국 알래스카에서 관광용 경...\n",
       "\n",
       "[198582 rows x 2 columns]"
      ]
     },
     "execution_count": 260,
     "metadata": {},
     "output_type": "execute_result"
    }
   ],
   "source": [
    "data2"
   ]
  },
  {
   "cell_type": "markdown",
   "metadata": {},
   "source": [
    "**label modify**"
   ]
  },
  {
   "cell_type": "code",
   "execution_count": 261,
   "metadata": {
    "scrolled": false
   },
   "outputs": [
    {
     "data": {
      "text/html": [
       "<div>\n",
       "<style scoped>\n",
       "    .dataframe tbody tr th:only-of-type {\n",
       "        vertical-align: middle;\n",
       "    }\n",
       "\n",
       "    .dataframe tbody tr th {\n",
       "        vertical-align: top;\n",
       "    }\n",
       "\n",
       "    .dataframe thead th {\n",
       "        text-align: right;\n",
       "    }\n",
       "</style>\n",
       "<table border=\"1\" class=\"dataframe\">\n",
       "  <thead>\n",
       "    <tr style=\"text-align: right;\">\n",
       "      <th></th>\n",
       "      <th>id</th>\n",
       "      <th>content</th>\n",
       "      <th>category</th>\n",
       "      <th>categorytext</th>\n",
       "      <th>category2</th>\n",
       "    </tr>\n",
       "  </thead>\n",
       "  <tbody>\n",
       "    <tr>\n",
       "      <th>0</th>\n",
       "      <td>315136</td>\n",
       "      <td>서울박정호 SKT 대표이사가 25일 서울 중구 을지로 SKT타워에서 열린 SK텔레콤...</td>\n",
       "      <td>[19]</td>\n",
       "      <td>19</td>\n",
       "      <td>[19]</td>\n",
       "    </tr>\n",
       "    <tr>\n",
       "      <th>1</th>\n",
       "      <td>315207</td>\n",
       "      <td>네오위즈공동대표 문지수 김승철의 신작 게임 블레스 언리쉬드 PC에 대한 글로벌 이용...</td>\n",
       "      <td>[4, 9]</td>\n",
       "      <td>4,9</td>\n",
       "      <td>[4, 9]</td>\n",
       "    </tr>\n",
       "    <tr>\n",
       "      <th>2</th>\n",
       "      <td>315210</td>\n",
       "      <td>삼성 디지털프라자 삼성대치본점 갤럭시 스튜디오에서 소비자들이 갤럭시 북 프로 시리즈...</td>\n",
       "      <td>[29]</td>\n",
       "      <td>29</td>\n",
       "      <td>NaN</td>\n",
       "    </tr>\n",
       "    <tr>\n",
       "      <th>3</th>\n",
       "      <td>315241</td>\n",
       "      <td>김창룡 방송통신위원회 상임위원이 온라인 동영상 서비스OTT 웨이브를 방문해 국내 O...</td>\n",
       "      <td>[10]</td>\n",
       "      <td>10</td>\n",
       "      <td>[10]</td>\n",
       "    </tr>\n",
       "    <tr>\n",
       "      <th>4</th>\n",
       "      <td>315410</td>\n",
       "      <td>NHN이 게임 부문 실적 개선으로 우상향 그래프를 그렸다 다만 게임 외 사업이 대부...</td>\n",
       "      <td>[29]</td>\n",
       "      <td>29</td>\n",
       "      <td>NaN</td>\n",
       "    </tr>\n",
       "  </tbody>\n",
       "</table>\n",
       "</div>"
      ],
      "text/plain": [
       "       id                                            content category  \\\n",
       "0  315136  서울박정호 SKT 대표이사가 25일 서울 중구 을지로 SKT타워에서 열린 SK텔레콤...     [19]   \n",
       "1  315207  네오위즈공동대표 문지수 김승철의 신작 게임 블레스 언리쉬드 PC에 대한 글로벌 이용...   [4, 9]   \n",
       "2  315210  삼성 디지털프라자 삼성대치본점 갤럭시 스튜디오에서 소비자들이 갤럭시 북 프로 시리즈...     [29]   \n",
       "3  315241  김창룡 방송통신위원회 상임위원이 온라인 동영상 서비스OTT 웨이브를 방문해 국내 O...     [10]   \n",
       "4  315410  NHN이 게임 부문 실적 개선으로 우상향 그래프를 그렸다 다만 게임 외 사업이 대부...     [29]   \n",
       "\n",
       "  categorytext category2  \n",
       "0           19      [19]  \n",
       "1          4,9    [4, 9]  \n",
       "2           29       NaN  \n",
       "3           10      [10]  \n",
       "4           29       NaN  "
      ]
     },
     "execution_count": 261,
     "metadata": {},
     "output_type": "execute_result"
    }
   ],
   "source": [
    "data['category2'] = data2.category.apply(label_modify)\n",
    "data.head()"
   ]
  },
  {
   "cell_type": "code",
   "execution_count": 262,
   "metadata": {},
   "outputs": [],
   "source": [
    "data.rename(columns={'category':'origin_category', 'category2':'category'}, inplace=True)"
   ]
  },
  {
   "cell_type": "code",
   "execution_count": 263,
   "metadata": {},
   "outputs": [],
   "source": [
    "data = data[['category', 'content']]"
   ]
  },
  {
   "cell_type": "code",
   "execution_count": 264,
   "metadata": {},
   "outputs": [],
   "source": [
    "data = data.dropna()"
   ]
  },
  {
   "cell_type": "code",
   "execution_count": 265,
   "metadata": {},
   "outputs": [
    {
     "data": {
      "text/plain": [
       "category    198582\n",
       "content     198582\n",
       "dtype: int64"
      ]
     },
     "execution_count": 265,
     "metadata": {},
     "output_type": "execute_result"
    }
   ],
   "source": [
    "data.count()"
   ]
  },
  {
   "cell_type": "markdown",
   "metadata": {},
   "source": [
    "**data save**"
   ]
  },
  {
   "cell_type": "code",
   "execution_count": 266,
   "metadata": {},
   "outputs": [],
   "source": [
    "df = pd.DataFrame(data)"
   ]
  },
  {
   "cell_type": "code",
   "execution_count": 267,
   "metadata": {},
   "outputs": [],
   "source": [
    "\n",
    "df.to_csv('/home/jh/documents/datasets/news_category.csv', encoding='utf-8')\n"
   ]
  },
  {
   "cell_type": "code",
   "execution_count": 268,
   "metadata": {},
   "outputs": [
    {
     "data": {
      "text/plain": [
       "{'content': '서울박정호 SKT 대표이사가 25일 서울 중구 을지로 SKT타워에서 열린 SK텔레콤 제37기 정기 주주총회에 참석하고 있다SK텔레콤이 주주가치 제고를 위해 한국거래소에 자사주 869만주 소각을 반영한 변경상장을 완료했다고 14일 밝혔다 발행주식 총수의약 2조6000억원규모다 이로써 전날 기준 SK텔레콤의 발행주식 총수는 기존 8075만주에서 7206만주로 줄어들었다앞서 SK텔레콤은 지난 4일 올해 인적분할에 앞서 기업가치주주가치 제고를 위해 기존 자사주를 사실상 전량 소각한다고 발표한 바 있다 이번 자사주 소각으로 발행주식 총수가 감소하면서 기존 주주들의 지분율이 모두 상승했다SK텔레콤은 분할 후 기업가치가 올라갈 것으로 전망하는 증권업계 전반의 시각을 감안하면 기업 펀더멘털 변동없이 주식 수만 줄어든 상황이라며 자사주 소각 전보다 주식가치 상승 여력이 더 커졌다고 분석했다SK텔레콤은 발행주식 총수가 줄었음에도 전날 시가총액이 약 22조5000억원을 기록해 주주총회에서 기업구조인적분할 개편을 공식화했던 지난 3월25일 시가총액약 20조5000억원보다 10가량 늘었다고 설명했다 주가도 연초 대비 30 이상 상승했다고 덧붙였다한편 SK텔레콤은 상반기 내 이사회 의결을 거쳐 오는 10월 주주총회 11월 인적분할 법인의 재상장을 통해 인적분할 절차를 끝낼 계획이다',\n",
       " 'category': [19]}"
      ]
     },
     "execution_count": 268,
     "metadata": {},
     "output_type": "execute_result"
    }
   ],
   "source": [
    "temp_dict = [\n",
    "    {\"content\": row['content'].strip(), \"category\": row['category']}\n",
    "    for _, row in df.iterrows()\n",
    "]\n",
    "\n",
    "temp_dict[0]"
   ]
  },
  {
   "cell_type": "code",
   "execution_count": 269,
   "metadata": {},
   "outputs": [
    {
     "name": "stdout",
     "output_type": "stream",
     "text": [
      "Wrote 198582 records to /home/jh/documents/datasets/git_category.json\n"
     ]
    }
   ],
   "source": [
    "\n",
    "!rm -rf /workspace/data/git_category.json\n",
    "dump_jsonl(temp_dict, '/home/jh/documents/datasets/git_category.json')"
   ]
  },
  {
   "cell_type": "code",
   "execution_count": 270,
   "metadata": {},
   "outputs": [
    {
     "data": {
      "text/html": [
       "<div>\n",
       "<style scoped>\n",
       "    .dataframe tbody tr th:only-of-type {\n",
       "        vertical-align: middle;\n",
       "    }\n",
       "\n",
       "    .dataframe tbody tr th {\n",
       "        vertical-align: top;\n",
       "    }\n",
       "\n",
       "    .dataframe thead th {\n",
       "        text-align: right;\n",
       "    }\n",
       "</style>\n",
       "<table border=\"1\" class=\"dataframe\">\n",
       "  <thead>\n",
       "    <tr style=\"text-align: right;\">\n",
       "      <th></th>\n",
       "      <th>category</th>\n",
       "      <th>content</th>\n",
       "    </tr>\n",
       "  </thead>\n",
       "  <tbody>\n",
       "    <tr>\n",
       "      <th>0</th>\n",
       "      <td>[19]</td>\n",
       "      <td>서울박정호 SKT 대표이사가 25일 서울 중구 을지로 SKT타워에서 열린 SK텔레콤...</td>\n",
       "    </tr>\n",
       "    <tr>\n",
       "      <th>1</th>\n",
       "      <td>[4, 9]</td>\n",
       "      <td>네오위즈공동대표 문지수 김승철의 신작 게임 블레스 언리쉬드 PC에 대한 글로벌 이용...</td>\n",
       "    </tr>\n",
       "    <tr>\n",
       "      <th>3</th>\n",
       "      <td>[10]</td>\n",
       "      <td>김창룡 방송통신위원회 상임위원이 온라인 동영상 서비스OTT 웨이브를 방문해 국내 O...</td>\n",
       "    </tr>\n",
       "    <tr>\n",
       "      <th>5</th>\n",
       "      <td>[10, 0, 11]</td>\n",
       "      <td>문재인 대통령이 14일 오전 청와대에서 임혜숙 과학기술정보통신부 장관에게 임명장을 ...</td>\n",
       "    </tr>\n",
       "    <tr>\n",
       "      <th>6</th>\n",
       "      <td>[16]</td>\n",
       "      <td>미국 뉴욕 전경최소 모집정원 1명짜리 파격 해외 패키지여행 상품이 등장했다최소 15...</td>\n",
       "    </tr>\n",
       "  </tbody>\n",
       "</table>\n",
       "</div>"
      ],
      "text/plain": [
       "      category                                            content\n",
       "0         [19]  서울박정호 SKT 대표이사가 25일 서울 중구 을지로 SKT타워에서 열린 SK텔레콤...\n",
       "1       [4, 9]  네오위즈공동대표 문지수 김승철의 신작 게임 블레스 언리쉬드 PC에 대한 글로벌 이용...\n",
       "3         [10]  김창룡 방송통신위원회 상임위원이 온라인 동영상 서비스OTT 웨이브를 방문해 국내 O...\n",
       "5  [10, 0, 11]  문재인 대통령이 14일 오전 청와대에서 임혜숙 과학기술정보통신부 장관에게 임명장을 ...\n",
       "6         [16]  미국 뉴욕 전경최소 모집정원 1명짜리 파격 해외 패키지여행 상품이 등장했다최소 15..."
      ]
     },
     "execution_count": 270,
     "metadata": {},
     "output_type": "execute_result"
    }
   ],
   "source": [
    "df.head()"
   ]
  },
  {
   "cell_type": "code",
   "execution_count": 271,
   "metadata": {},
   "outputs": [
    {
     "data": {
      "text/plain": [
       "category    198582\n",
       "content     198582\n",
       "dtype: int64"
      ]
     },
     "execution_count": 271,
     "metadata": {},
     "output_type": "execute_result"
    }
   ],
   "source": [
    "df.count()"
   ]
  }
 ],
 "metadata": {
  "kernelspec": {
   "display_name": "Python 3.8.15 64-bit ('jupyter')",
   "language": "python",
   "name": "python3"
  },
  "language_info": {
   "codemirror_mode": {
    "name": "ipython",
    "version": 3
   },
   "file_extension": ".py",
   "mimetype": "text/x-python",
   "name": "python",
   "nbconvert_exporter": "python",
   "pygments_lexer": "ipython3",
   "version": "3.8.15"
  },
  "vscode": {
   "interpreter": {
    "hash": "4086fbbda600ef5a3186756b0a57662a89014dc025df738c34c7b09932df9c3c"
   }
  }
 },
 "nbformat": 4,
 "nbformat_minor": 4
}
